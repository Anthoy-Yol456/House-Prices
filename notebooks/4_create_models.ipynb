{
 "cells": [
  {
   "cell_type": "code",
   "execution_count": 1,
   "metadata": {},
   "outputs": [],
   "source": [
    "import pandas as pd\n",
    "from sklearn.model_selection import train_test_split, GridSearchCV\n",
    "from sklearn.metrics import mean_squared_error\n",
    "from sklearn.linear_model import LinearRegression, Ridge, Lasso\n",
    "from sklearn.ensemble import RandomForestRegressor, GradientBoostingRegressor\n",
    "from sklearn.svm import SVR\n",
    "import numpy as np\n"
   ]
  },
  {
   "cell_type": "code",
   "execution_count": 16,
   "metadata": {},
   "outputs": [],
   "source": [
    "test = pd.read_csv(\"../data/processed/test_preprocessed.csv\")\n",
    "train = pd.read_csv(\"../data/processed/train_preprocessed.csv\")"
   ]
  },
  {
   "cell_type": "code",
   "execution_count": 17,
   "metadata": {},
   "outputs": [],
   "source": [
    "X = train.drop('SalePrice', axis=1)\n",
    "y = train['SalePrice']"
   ]
  },
  {
   "cell_type": "code",
   "execution_count": 18,
   "metadata": {},
   "outputs": [],
   "source": [
    "X_train, X_val, y_train, y_val = train_test_split(X, y, test_size=0.2, random_state=42)\n"
   ]
  },
  {
   "cell_type": "code",
   "execution_count": 19,
   "metadata": {},
   "outputs": [],
   "source": [
    "models = {\n",
    "    'LinearRegression': {\n",
    "        'model': LinearRegression(),\n",
    "        'params': {}\n",
    "    },\n",
    "    'Ridge': {\n",
    "        'model': Ridge(),\n",
    "        'params': {'alpha': [0.1, 1, 10]}\n",
    "    },\n",
    "    'Lasso': {\n",
    "        'model': Lasso(),\n",
    "        'params': {'alpha': [0.01, 0.1, 1]}\n",
    "    },\n",
    "    'RandomForest': {\n",
    "        'model': RandomForestRegressor(random_state=42),\n",
    "        'params': {'n_estimators': [100, 200, 300], 'max_depth': [10, 20, None]}\n",
    "    },\n",
    "    'GradientBoosting': {\n",
    "        'model': GradientBoostingRegressor(random_state=42),\n",
    "        'params': {'n_estimators': [100, 200, 300], 'learning_rate': [0.05, 0.1, 0.2]}\n",
    "    },\n",
    "    'SVR': {\n",
    "        'model': SVR(),\n",
    "        'params': {'C': [0.1, 1, 10], 'kernel': ['linear', 'rbf']}\n",
    "    }\n",
    "}\n"
   ]
  },
  {
   "cell_type": "code",
   "execution_count": 20,
   "metadata": {},
   "outputs": [],
   "source": [
    "results = []\n"
   ]
  },
  {
   "cell_type": "code",
   "execution_count": 21,
   "metadata": {},
   "outputs": [
    {
     "name": "stdout",
     "output_type": "stream",
     "text": [
      "Evaluando modelo: LinearRegression\n",
      "Fitting 5 folds for each of 1 candidates, totalling 5 fits\n",
      "Evaluando modelo: Ridge\n",
      "Fitting 5 folds for each of 3 candidates, totalling 15 fits\n",
      "Evaluando modelo: Lasso\n",
      "Fitting 5 folds for each of 3 candidates, totalling 15 fits\n"
     ]
    },
    {
     "name": "stderr",
     "output_type": "stream",
     "text": [
      "c:\\Users\\tonix\\anaconda3\\envs\\venv-bank-churning\\Lib\\site-packages\\sklearn\\linear_model\\_coordinate_descent.py:697: ConvergenceWarning: Objective did not converge. You might want to increase the number of iterations, check the scale of the features or consider increasing regularisation. Duality gap: 8.181e+10, tolerance: 5.374e+08\n",
      "  model = cd_fast.enet_coordinate_descent(\n",
      "c:\\Users\\tonix\\anaconda3\\envs\\venv-bank-churning\\Lib\\site-packages\\sklearn\\linear_model\\_coordinate_descent.py:697: ConvergenceWarning: Objective did not converge. You might want to increase the number of iterations, check the scale of the features or consider increasing regularisation. Duality gap: 5.839e+10, tolerance: 5.720e+08\n",
      "  model = cd_fast.enet_coordinate_descent(\n",
      "c:\\Users\\tonix\\anaconda3\\envs\\venv-bank-churning\\Lib\\site-packages\\sklearn\\linear_model\\_coordinate_descent.py:697: ConvergenceWarning: Objective did not converge. You might want to increase the number of iterations, check the scale of the features or consider increasing regularisation. Duality gap: 6.836e+10, tolerance: 5.256e+08\n",
      "  model = cd_fast.enet_coordinate_descent(\n",
      "c:\\Users\\tonix\\anaconda3\\envs\\venv-bank-churning\\Lib\\site-packages\\sklearn\\linear_model\\_coordinate_descent.py:697: ConvergenceWarning: Objective did not converge. You might want to increase the number of iterations, check the scale of the features or consider increasing regularisation. Duality gap: 5.589e+10, tolerance: 5.716e+08\n",
      "  model = cd_fast.enet_coordinate_descent(\n",
      "c:\\Users\\tonix\\anaconda3\\envs\\venv-bank-churning\\Lib\\site-packages\\sklearn\\linear_model\\_coordinate_descent.py:697: ConvergenceWarning: Objective did not converge. You might want to increase the number of iterations, check the scale of the features or consider increasing regularisation. Duality gap: 7.830e+10, tolerance: 5.796e+08\n",
      "  model = cd_fast.enet_coordinate_descent(\n",
      "c:\\Users\\tonix\\anaconda3\\envs\\venv-bank-churning\\Lib\\site-packages\\sklearn\\linear_model\\_coordinate_descent.py:697: ConvergenceWarning: Objective did not converge. You might want to increase the number of iterations, check the scale of the features or consider increasing regularisation. Duality gap: 6.607e+10, tolerance: 5.374e+08\n",
      "  model = cd_fast.enet_coordinate_descent(\n",
      "c:\\Users\\tonix\\anaconda3\\envs\\venv-bank-churning\\Lib\\site-packages\\sklearn\\linear_model\\_coordinate_descent.py:697: ConvergenceWarning: Objective did not converge. You might want to increase the number of iterations, check the scale of the features or consider increasing regularisation. Duality gap: 3.613e+10, tolerance: 5.720e+08\n",
      "  model = cd_fast.enet_coordinate_descent(\n",
      "c:\\Users\\tonix\\anaconda3\\envs\\venv-bank-churning\\Lib\\site-packages\\sklearn\\linear_model\\_coordinate_descent.py:697: ConvergenceWarning: Objective did not converge. You might want to increase the number of iterations, check the scale of the features or consider increasing regularisation. Duality gap: 6.892e+10, tolerance: 5.256e+08\n",
      "  model = cd_fast.enet_coordinate_descent(\n",
      "c:\\Users\\tonix\\anaconda3\\envs\\venv-bank-churning\\Lib\\site-packages\\sklearn\\linear_model\\_coordinate_descent.py:697: ConvergenceWarning: Objective did not converge. You might want to increase the number of iterations, check the scale of the features or consider increasing regularisation. Duality gap: 6.227e+10, tolerance: 5.716e+08\n",
      "  model = cd_fast.enet_coordinate_descent(\n",
      "c:\\Users\\tonix\\anaconda3\\envs\\venv-bank-churning\\Lib\\site-packages\\sklearn\\linear_model\\_coordinate_descent.py:697: ConvergenceWarning: Objective did not converge. You might want to increase the number of iterations, check the scale of the features or consider increasing regularisation. Duality gap: 7.784e+10, tolerance: 5.796e+08\n",
      "  model = cd_fast.enet_coordinate_descent(\n",
      "c:\\Users\\tonix\\anaconda3\\envs\\venv-bank-churning\\Lib\\site-packages\\sklearn\\linear_model\\_coordinate_descent.py:697: ConvergenceWarning: Objective did not converge. You might want to increase the number of iterations, check the scale of the features or consider increasing regularisation. Duality gap: 6.682e+08, tolerance: 5.720e+08\n",
      "  model = cd_fast.enet_coordinate_descent(\n",
      "c:\\Users\\tonix\\anaconda3\\envs\\venv-bank-churning\\Lib\\site-packages\\sklearn\\linear_model\\_coordinate_descent.py:697: ConvergenceWarning: Objective did not converge. You might want to increase the number of iterations, check the scale of the features or consider increasing regularisation. Duality gap: 5.837e+09, tolerance: 5.716e+08\n",
      "  model = cd_fast.enet_coordinate_descent(\n",
      "c:\\Users\\tonix\\anaconda3\\envs\\venv-bank-churning\\Lib\\site-packages\\sklearn\\linear_model\\_coordinate_descent.py:697: ConvergenceWarning: Objective did not converge. You might want to increase the number of iterations, check the scale of the features or consider increasing regularisation. Duality gap: 3.059e+10, tolerance: 5.796e+08\n",
      "  model = cd_fast.enet_coordinate_descent(\n",
      "c:\\Users\\tonix\\anaconda3\\envs\\venv-bank-churning\\Lib\\site-packages\\sklearn\\linear_model\\_coordinate_descent.py:697: ConvergenceWarning: Objective did not converge. You might want to increase the number of iterations, check the scale of the features or consider increasing regularisation. Duality gap: 9.251e+08, tolerance: 6.967e+08\n",
      "  model = cd_fast.enet_coordinate_descent(\n"
     ]
    },
    {
     "name": "stdout",
     "output_type": "stream",
     "text": [
      "Evaluando modelo: RandomForest\n",
      "Fitting 5 folds for each of 9 candidates, totalling 45 fits\n",
      "Evaluando modelo: GradientBoosting\n",
      "Fitting 5 folds for each of 9 candidates, totalling 45 fits\n",
      "Evaluando modelo: SVR\n",
      "Fitting 5 folds for each of 6 candidates, totalling 30 fits\n"
     ]
    }
   ],
   "source": [
    "for model_name, config in models.items():\n",
    "    print(f\"Evaluando modelo: {model_name}\")\n",
    "    \n",
    "    # Configuración de GridSearchCV\n",
    "    grid_search = GridSearchCV(estimator=config['model'], param_grid=config['params'], \n",
    "                               scoring='neg_mean_squared_error', cv=5, verbose=1)\n",
    "    grid_search.fit(X_train, y_train)\n",
    "    \n",
    "    # Mejor modelo y su rendimiento\n",
    "    best_model = grid_search.best_estimator_\n",
    "    best_params = grid_search.best_params_\n",
    "    y_pred = best_model.predict(X_val)\n",
    "    mse = mean_squared_error(y_val, y_pred)\n",
    "    rmse = np.sqrt(mse)"
   ]
  }
 ],
 "metadata": {
  "kernelspec": {
   "display_name": "venv-bank-churning",
   "language": "python",
   "name": "python3"
  },
  "language_info": {
   "codemirror_mode": {
    "name": "ipython",
    "version": 3
   },
   "file_extension": ".py",
   "mimetype": "text/x-python",
   "name": "python",
   "nbconvert_exporter": "python",
   "pygments_lexer": "ipython3",
   "version": "3.11.10"
  }
 },
 "nbformat": 4,
 "nbformat_minor": 2
}
